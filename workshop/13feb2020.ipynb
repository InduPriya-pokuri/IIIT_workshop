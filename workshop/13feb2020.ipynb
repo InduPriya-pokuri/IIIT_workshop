{
 "cells": [
  {
   "cell_type": "code",
   "execution_count": 2,
   "metadata": {},
   "outputs": [
    {
     "name": "stdout",
     "output_type": "stream",
     "text": [
      "5\n"
     ]
    }
   ],
   "source": [
    "li=[12,3,5,5]\n",
    "print(li[(len(li)-1)])"
   ]
  },
  {
   "cell_type": "code",
   "execution_count": 13,
   "metadata": {},
   "outputs": [
    {
     "name": "stdout",
     "output_type": "stream",
     "text": [
      "Valid\n"
     ]
    }
   ],
   "source": [
    "##email validity\n",
    "import re\n",
    "def emailvalidity(email):\n",
    "    pattern=\"^[a-z0-9][a-z0-9_.]{1,18}[@][a-z0-9]{1,20}[.][a-z]{2,5}$\"\n",
    "    if re.match(pattern,email):\n",
    "        print(\"Valid\")\n",
    "    else:\n",
    "        print(\"Invalid\")\n",
    "emailvalidity(\"lenksai2002@gmail.com\")"
   ]
  },
  {
   "cell_type": "markdown",
   "metadata": {},
   "source": [
    "# file handling\n"
   ]
  },
  {
   "cell_type": "code",
   "execution_count": 25,
   "metadata": {},
   "outputs": [
    {
     "data": {
      "text/plain": [
       "'lenka sai lenka sai lenka sai lenka sai  lenka sai lenak sai lenka sai lenka sai\\nkjndskjfnsneuf\\nsknfsdkjfnf\\nskdndskjfnsdf\\nlsidifjskfjnsdkjf\\nksldjndskfndsf\\nsdfhdsifujdsfi'"
      ]
     },
     "execution_count": 25,
     "metadata": {},
     "output_type": "execute_result"
    }
   ],
   "source": [
    "## file open\n",
    "first=open(\"1.txt\",\"r\")\n",
    "first.read()\n",
    "\n"
   ]
  },
  {
   "cell_type": "code",
   "execution_count": 28,
   "metadata": {},
   "outputs": [
    {
     "name": "stdout",
     "output_type": "stream",
     "text": [
      "lenka sai lenka sai lenka sai lenka sai  lenka sai lenak sai lenka sai lenka sai\n",
      "\n"
     ]
    }
   ],
   "source": [
    "first=open(\"1.txt\",\"r\")\n",
    "print(first.readline())"
   ]
  },
  {
   "cell_type": "code",
   "execution_count": 29,
   "metadata": {},
   "outputs": [
    {
     "name": "stdout",
     "output_type": "stream",
     "text": [
      "lenka sai lenka sai lenka sai lenka sai  lenka sai lenak sai lenka sai lenka sai\n",
      "kjndskjfnsneuf\n",
      "sknfsdkjfnf\n",
      "skdndskjfnsdf\n",
      "lsidifjskfjnsdkjf\n",
      "ksldjndskfndsf\n",
      "sdfhdsifujdsfi\n"
     ]
    }
   ],
   "source": [
    "first=open(\"1.txt\",\"r\")\n",
    "print(first.read())"
   ]
  },
  {
   "cell_type": "code",
   "execution_count": 45,
   "metadata": {},
   "outputs": [
    {
     "data": {
      "text/plain": [
       "122"
      ]
     },
     "execution_count": 45,
     "metadata": {},
     "output_type": "execute_result"
    }
   ],
   "source": [
    "##write\n",
    "second=open(\"2.txt\",\"w\")\n",
    "second.write(\"lenka sai lenka sai lenka jsdhfudshfsdfusdfujdsfhusfihsdjfhsai asjknjknckjnfksjdnckjfnkjdvbndfjbfdvjdfnfdvjfdvndfvnfdvunfd\")"
   ]
  },
  {
   "cell_type": "code",
   "execution_count": 47,
   "metadata": {},
   "outputs": [
    {
     "name": "stdout",
     "output_type": "stream",
     "text": [
      "ghjkljhgfdghjkjfhyghyfgtftgrdrfdrefsesrfty\n"
     ]
    },
    {
     "data": {
      "text/plain": [
       "42"
      ]
     },
     "execution_count": 47,
     "metadata": {},
     "output_type": "execute_result"
    }
   ],
   "source": [
    "second=open(\"2.txt\",\"w\")\n",
    "second.write(input())"
   ]
  },
  {
   "cell_type": "code",
   "execution_count": 53,
   "metadata": {},
   "outputs": [
    {
     "data": {
      "text/plain": [
       "'ghjkljhgfdghjkjfhyghyfgtftgrdrfdrefsesrfty'"
      ]
     },
     "execution_count": 53,
     "metadata": {},
     "output_type": "execute_result"
    }
   ],
   "source": [
    "a=open(\"2.txt\",\"r\")\n",
    "a.read()\n"
   ]
  },
  {
   "cell_type": "markdown",
   "metadata": {},
   "source": [
    "# comprehension"
   ]
  },
  {
   "cell_type": "code",
   "execution_count": 55,
   "metadata": {},
   "outputs": [
    {
     "name": "stdout",
     "output_type": "stream",
     "text": [
      "[0, 2, 4, 6, 8, 10, 12, 14, 16, 18]\n"
     ]
    }
   ],
   "source": [
    "li=[]\n",
    "for i in range(20):\n",
    "    if i%2==0:\n",
    "        li.append(i)\n",
    "print(li)\n",
    "        "
   ]
  },
  {
   "cell_type": "code",
   "execution_count": 70,
   "metadata": {},
   "outputs": [
    {
     "name": "stdout",
     "output_type": "stream",
     "text": [
      "[0, 2, 4, 6, 8, 10, 12, 14, 16, 18]\n"
     ]
    },
    {
     "data": {
      "text/plain": [
       "[0, 'odd', 2, 'odd', 4, 'odd', 6, 'odd', 8, 'odd']"
      ]
     },
     "execution_count": 70,
     "metadata": {},
     "output_type": "execute_result"
    }
   ],
   "source": [
    "###list comprehension\n",
    "##  which element to be printed\n",
    "## for loop and range\n",
    "## condtion\n",
    "## here element variable and range variable\n",
    "## if statement\n",
    "a=[i for i in range(20) if i%2==0 ]\n",
    "print(a)\n",
    "## if else statement\n",
    "b=[i if i%2==0 else \"odd\" for i in range(10)]\n",
    "b"
   ]
  },
  {
   "cell_type": "code",
   "execution_count": 72,
   "metadata": {},
   "outputs": [
    {
     "data": {
      "text/plain": [
       "[0, 10, 20, 30, 40, 50, 60, 70, 80, 90]"
      ]
     },
     "execution_count": 72,
     "metadata": {},
     "output_type": "execute_result"
    }
   ],
   "source": [
    "###nested if in list comprehension\n",
    "a=[i for i in range(100) if i%5==0 if i%10==0]\n",
    "a"
   ]
  },
  {
   "cell_type": "code",
   "execution_count": 73,
   "metadata": {},
   "outputs": [
    {
     "data": {
      "text/plain": [
       "[0,\n",
       " 'not',\n",
       " 2,\n",
       " 'not',\n",
       " 4,\n",
       " 'not',\n",
       " 6,\n",
       " 'not',\n",
       " 8,\n",
       " 'not',\n",
       " 10,\n",
       " 'not',\n",
       " 12,\n",
       " 'not',\n",
       " 14,\n",
       " 'not',\n",
       " 16,\n",
       " 'not',\n",
       " 18,\n",
       " 'not']"
      ]
     },
     "execution_count": 73,
     "metadata": {},
     "output_type": "execute_result"
    }
   ],
   "source": [
    "## if and else in list comprehension\n",
    "a=[i if i%2==0 else \"not\" for i in range(20)]\n",
    "a"
   ]
  },
  {
   "cell_type": "code",
   "execution_count": 78,
   "metadata": {},
   "outputs": [
    {
     "data": {
      "text/plain": [
       "[[1, 4], [2, 5], [3, 6], [4, 7], [6, 8]]"
      ]
     },
     "execution_count": 78,
     "metadata": {},
     "output_type": "execute_result"
    }
   ],
   "source": [
    "### nested loops in list comprehension\n",
    "li=[[1,2,3,4,6],[4,5,6,7,8]]\n",
    "a1=[[j[i]for j in li] for i in range(len(li[1]))]\n",
    "a1\n",
    "\n"
   ]
  },
  {
   "cell_type": "code",
   "execution_count": 81,
   "metadata": {},
   "outputs": [
    {
     "data": {
      "text/plain": [
       "[1, 1, 2, 3, 3]"
      ]
     },
     "execution_count": 81,
     "metadata": {},
     "output_type": "execute_result"
    }
   ],
   "source": [
    "li=[1,1,2,3,3]\n",
    "l1=[]\n",
    "li"
   ]
  },
  {
   "cell_type": "code",
   "execution_count": 85,
   "metadata": {},
   "outputs": [
    {
     "data": {
      "text/plain": [
       "{'sai': 1, 's': 3}"
      ]
     },
     "execution_count": 85,
     "metadata": {},
     "output_type": "execute_result"
    }
   ],
   "source": [
    "## dictionary comperhension\n",
    "d={\"sai\":1,\"s\":3}\n",
    "d1={k:v for k,v in d.items()}\n",
    "d1\n"
   ]
  },
  {
   "cell_type": "code",
   "execution_count": 91,
   "metadata": {},
   "outputs": [
    {
     "data": {
      "text/plain": [
       "{'a': 1, 'b': 2, 'c': 3, 'd': 4}"
      ]
     },
     "execution_count": 91,
     "metadata": {},
     "output_type": "execute_result"
    }
   ],
   "source": [
    "s=[1,2,3,4,5,7,8,0]\n",
    "a=['a','b','c','d']\n",
    "dict1={k:v for k,v in zip(a,s)}\n",
    "dict1"
   ]
  },
  {
   "cell_type": "markdown",
   "metadata": {},
   "source": [
    "# files"
   ]
  },
  {
   "cell_type": "markdown",
   "metadata": {},
   "source": [
    "### binary files videos and audioes\n",
    "### text files\n",
    "### modes read write search  readline readlines\n",
    "### method open close\n",
    "### read->r->readlines->readlines\n",
    "### append->a\n",
    "### open()\n",
    "### close()\n"
   ]
  },
  {
   "cell_type": "code",
   "execution_count": 99,
   "metadata": {},
   "outputs": [
    {
     "name": "stdout",
     "output_type": "stream",
     "text": [
      "lenka sai lenka sai lenka sai lenka sai  lenka sai lenak sai lenka sai lenka sai\n",
      "kjndskjfnsneuf\n",
      "sknfsdkjfnf\n",
      "skdndskjfnsdf\n",
      "lsidifjskfjnsdkjf\n",
      "ksldjndskfndsf\n",
      "sdfhdsifujdsfi\n"
     ]
    }
   ],
   "source": [
    "## flies open and read\n",
    "def file(name):\n",
    "    m=open(name,\"r\")\n",
    "    m=m.read()\n",
    "    return m\n",
    "print(file(\"1.txt\"))"
   ]
  },
  {
   "cell_type": "code",
   "execution_count": 101,
   "metadata": {},
   "outputs": [
    {
     "name": "stdout",
     "output_type": "stream",
     "text": [
      "lenka sai lenka sai lenka sai lenka sai  lenka sai lenak sai lenka sai lenka sai\n",
      "\n",
      "kjndskjfnsneuf\n",
      "\n",
      "sknfsdkjfnf\n",
      "\n",
      "skdndskjfnsdf\n",
      "\n",
      "lsidifjskfjnsdkjf\n",
      "\n",
      "ksldjndskfndsf\n",
      "\n",
      "sdfhdsifujdsfi\n",
      "None\n"
     ]
    }
   ],
   "source": [
    "## open and write\n",
    "def file1(name):\n",
    "    with open(name,\"r\") as f:\n",
    "        for line in f:\n",
    "            print(line)\n",
    "    return \n",
    "print(file1(\"1.txt\"))"
   ]
  },
  {
   "cell_type": "code",
   "execution_count": 102,
   "metadata": {},
   "outputs": [
    {
     "name": "stdout",
     "output_type": "stream",
     "text": [
      "@@@@@@@@@@@@@@@@@@@#####################$$$$$$$$$$$$$$$$$$$%%%%%%%%%%%%%%%%%%%%%%%^^^^^^^^^^^^^^^^^^^^^^&&&&&&&&&&&&&&&&&&&&&************\n",
      "\n",
      "#@#$%^&*()@#$%^&*()@#$%^&*()@#$%^&*()@#$%^&*()\n",
      "\n",
      "WERTYUIODFGHJKCVBN\n",
      "\n",
      "FDGHJK\n",
      "\n",
      "fghjkl\n",
      "\n",
      "ghjkl\n"
     ]
    }
   ],
   "source": [
    "def file2(name):\n",
    "    with open(name,\"r\") as i:\n",
    "        for j in i:\n",
    "            print(j)\n",
    "file2(\"3.txt\")"
   ]
  },
  {
   "cell_type": "code",
   "execution_count": 106,
   "metadata": {},
   "outputs": [
    {
     "name": "stdout",
     "output_type": "stream",
     "text": [
      "@@@@@@@@@@@@@@@@@@@#####################$$$$$$$$$$$$$$$$$$$%%%%%%%%%%%%%%%%%%%%%%%^^^^^^^^^^^^^^^^^^^^^^&&&&&&&&&&&&&&&&&&&&&************\n",
      "#@#$%^&*()@#$%^&*()@#$%^&*()@#$%^&*()@#$%^&*()\n",
      "WERTYUIODFGHJKCVBN\n",
      "FDGHJK\n",
      "fghjkl\n",
      "ghjkl\n"
     ]
    }
   ],
   "source": [
    "def file3(name):\n",
    "    f=open(name,\"r\")\n",
    "    print(f.read())\n",
    "file3(\"3.txt\")"
   ]
  },
  {
   "cell_type": "code",
   "execution_count": 115,
   "metadata": {},
   "outputs": [
    {
     "name": "stdout",
     "output_type": "stream",
     "text": [
      "None\n",
      "None\n"
     ]
    }
   ],
   "source": [
    "## write\n",
    "def write(name,data):\n",
    "    with open(name,'w') as w:\n",
    "        w.write(data)\n",
    "print(write(\"4.txt\",\"sai\"))\n",
    "print(write(\"4.txt\",\"we\"))"
   ]
  },
  {
   "cell_type": "code",
   "execution_count": 116,
   "metadata": {},
   "outputs": [],
   "source": [
    "def appenddataTofile(name,data):\n",
    "    with open(name,\"a\") as f:\n",
    "        for i in data:\n",
    "            f.write('\\n'+i)\n",
    "    return \n",
    "data=[\"sai\",\"lenka\"]\n",
    "appenddataTofile(\"4.txt\",data)"
   ]
  },
  {
   "cell_type": "code",
   "execution_count": 134,
   "metadata": {},
   "outputs": [
    {
     "data": {
      "text/plain": [
       "[4, 3, 2, 1]"
      ]
     },
     "execution_count": 134,
     "metadata": {},
     "output_type": "execute_result"
    }
   ],
   "source": [
    "def sai(li):\n",
    "    return s[::-1]\n",
    "li=[1,2,3]\n",
    "sai(li)\n",
    "\n",
    "    \n"
   ]
  },
  {
   "cell_type": "code",
   "execution_count": 135,
   "metadata": {},
   "outputs": [
    {
     "data": {
      "text/plain": [
       "3"
      ]
     },
     "execution_count": 135,
     "metadata": {},
     "output_type": "execute_result"
    }
   ],
   "source": [
    "li[-1]"
   ]
  },
  {
   "cell_type": "code",
   "execution_count": 136,
   "metadata": {},
   "outputs": [
    {
     "data": {
      "text/plain": [
       "2"
      ]
     },
     "execution_count": 136,
     "metadata": {},
     "output_type": "execute_result"
    }
   ],
   "source": [
    "li[-2]"
   ]
  },
  {
   "cell_type": "code",
   "execution_count": 137,
   "metadata": {},
   "outputs": [
    {
     "data": {
      "text/plain": [
       "1"
      ]
     },
     "execution_count": 137,
     "metadata": {},
     "output_type": "execute_result"
    }
   ],
   "source": [
    "li[-3]"
   ]
  },
  {
   "cell_type": "code",
   "execution_count": 141,
   "metadata": {},
   "outputs": [
    {
     "name": "stdout",
     "output_type": "stream",
     "text": [
      "we\n",
      "sai\n",
      "lenka\n"
     ]
    }
   ],
   "source": [
    "## reads the entire files in lines\n",
    "def file4(name):\n",
    "    with open(name,\"r\") as f:\n",
    "        data=f.read()\n",
    "    return data\n",
    "print(file4(\"4.txt\"))"
   ]
  },
  {
   "cell_type": "code",
   "execution_count": 142,
   "metadata": {},
   "outputs": [
    {
     "name": "stdout",
     "output_type": "stream",
     "text": [
      "['we', 'sai', 'lenka']\n"
     ]
    }
   ],
   "source": [
    "## function to read a file into a list of line\n",
    "def filelist(name):\n",
    "    with open(name,\"r\") as f:\n",
    "        data=f.read()\n",
    "        lines=data.split(\"\\n\")\n",
    "    return lines\n",
    "print(filelist(\"4.txt\"))"
   ]
  },
  {
   "cell_type": "code",
   "execution_count": 144,
   "metadata": {},
   "outputs": [
    {
     "name": "stdout",
     "output_type": "stream",
     "text": [
      "['@@@@@@@@@@@@@@@@@@@#####################$$$$$$$$$$$$$$$$$$$%%%%%%%%%%%%%%%%%%%%%%%^^^^^^^^^^^^^^^^^^^^^^&&&&&&&&&&&&&&&&&&&&&************', '#@#$%^&*()@#$%^&*()@#$%^&*()@#$%^&*()@#$%^&*()', 'WERTYUIODFGHJKCVBN', 'FDGHJK', 'fghjkl', 'ghjkl']\n"
     ]
    }
   ],
   "source": [
    "def fi(name):\n",
    "    data=open(name,\"r\")\n",
    "    data=data.read()\n",
    "    lines=data.split(\"\\n\")\n",
    "    return lines\n",
    "print(fi(\"3.txt\"))"
   ]
  },
  {
   "cell_type": "code",
   "execution_count": 163,
   "metadata": {},
   "outputs": [
    {
     "name": "stdout",
     "output_type": "stream",
     "text": [
      "1\n"
     ]
    }
   ],
   "source": [
    "def f(name):\n",
    "    with open(name,\"r\") as r:\n",
    "        data=r.read()\n",
    "        lines=data.split(\"\\n\")\n",
    "    return len(lines)\n",
    "print(f(\"5.txt\"))"
   ]
  },
  {
   "cell_type": "code",
   "execution_count": 177,
   "metadata": {},
   "outputs": [
    {
     "name": "stdout",
     "output_type": "stream",
     "text": [
      "None\n"
     ]
    }
   ],
   "source": [
    "def f(name):\n",
    "    count=0\n",
    "    with open(name,\"r\") as fileobj:\n",
    "        for line in fileobj:\n",
    "            for ch in line:\n",
    "                if(ord(\"ch\")==32):\n",
    "                    count=count+1\n",
    "    return \n",
    "print(f(\"5.txt\"))"
   ]
  },
  {
   "cell_type": "code",
   "execution_count": 172,
   "metadata": {},
   "outputs": [
    {
     "name": "stdout",
     "output_type": "stream",
     "text": [
      "0\n"
     ]
    }
   ],
   "source": []
  },
  {
   "cell_type": "code",
   "execution_count": 180,
   "metadata": {},
   "outputs": [
    {
     "data": {
      "text/plain": [
       "3"
      ]
     },
     "execution_count": 180,
     "metadata": {},
     "output_type": "execute_result"
    }
   ],
   "source": [
    "def d():\n",
    "    s=[1,2,3,4]\n",
    "    return (s[0]+s[1])\n",
    "d()\n",
    "\n"
   ]
  },
  {
   "cell_type": "code",
   "execution_count": null,
   "metadata": {},
   "outputs": [],
   "source": []
  }
 ],
 "metadata": {
  "kernelspec": {
   "display_name": "Python 3",
   "language": "python",
   "name": "python3"
  },
  "language_info": {
   "codemirror_mode": {
    "name": "ipython",
    "version": 3
   },
   "file_extension": ".py",
   "mimetype": "text/x-python",
   "name": "python",
   "nbconvert_exporter": "python",
   "pygments_lexer": "ipython3",
   "version": "3.7.4"
  }
 },
 "nbformat": 4,
 "nbformat_minor": 2
}
