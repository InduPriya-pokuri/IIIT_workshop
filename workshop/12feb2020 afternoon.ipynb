{
 "cells": [
  {
   "cell_type": "markdown",
   "metadata": {},
   "source": [
    "# packages "
   ]
  },
  {
   "cell_type": "code",
   "execution_count": 1,
   "metadata": {},
   "outputs": [
    {
     "data": {
      "text/plain": [
       "123"
      ]
     },
     "execution_count": 1,
     "metadata": {},
     "output_type": "execute_result"
    }
   ],
   "source": [
    "from math import floor as fl\n",
    "fl(123.345)"
   ]
  },
  {
   "cell_type": "code",
   "execution_count": 2,
   "metadata": {},
   "outputs": [
    {
     "data": {
      "text/plain": [
       "3.0"
      ]
     },
     "execution_count": 2,
     "metadata": {},
     "output_type": "execute_result"
    }
   ],
   "source": [
    "from math import sqrt\n",
    "sqrt(9)"
   ]
  },
  {
   "cell_type": "code",
   "execution_count": 5,
   "metadata": {},
   "outputs": [
    {
     "name": "stdout",
     "output_type": "stream",
     "text": [
      "0 19 2 18 0 17 8 18 7 15 17 5 11 1 8 18 0 19 9 5 "
     ]
    }
   ],
   "source": [
    "import random\n",
    "def gnerandom(n,lb,ub):\n",
    "    for i in range(0,n):\n",
    "        print(random.randint(lb,ub),end=\" \")\n",
    "gnerandom(20,0,20)"
   ]
  },
  {
   "cell_type": "code",
   "execution_count": 6,
   "metadata": {},
   "outputs": [
    {
     "name": "stdout",
     "output_type": "stream",
     "text": [
      "2020-02-12\n"
     ]
    }
   ],
   "source": [
    "from datetime import date\n",
    "sai=date.today()\n",
    "print(sai)"
   ]
  },
  {
   "cell_type": "code",
   "execution_count": 8,
   "metadata": {},
   "outputs": [
    {
     "name": "stdout",
     "output_type": "stream",
     "text": [
      "2020-02-12 14:23:15.488426\n"
     ]
    }
   ],
   "source": [
    "import datetime\n",
    "now=datetime.datetime.now()\n",
    "print(now)"
   ]
  },
  {
   "cell_type": "code",
   "execution_count": 12,
   "metadata": {},
   "outputs": [
    {
     "name": "stdout",
     "output_type": "stream",
     "text": [
      "14:27:31.068495\n"
     ]
    }
   ],
   "source": [
    " from datetime import datetime\n",
    "now=datetime.now().time()\n",
    "print(now)"
   ]
  },
  {
   "cell_type": "code",
   "execution_count": 16,
   "metadata": {},
   "outputs": [
    {
     "name": "stdout",
     "output_type": "stream",
     "text": [
      "True\n"
     ]
    }
   ],
   "source": [
    "from sympy import*\n",
    "print(isprime(5))\n",
    "##sympy symple package\n"
   ]
  },
  {
   "cell_type": "markdown",
   "metadata": {},
   "source": [
    "# regular expressions \n",
    "## programmiz\n",
    "\n",
    "\n",
    "\n",
    "\n",
    "\n"
   ]
  },
  {
   "cell_type": "code",
   "execution_count": 17,
   "metadata": {},
   "outputs": [],
   "source": [
    "### regular expressions start with ^ and end with $\n",
    "### \"^[a]$\" example\n",
    "### ^ [0-9]{1}$ only single digit numbers\n",
    "### ^[0-9]{3}$ only 3 digti numbers\n",
    "## [2468]-> all single digit multiples of 2\n",
    "## these are used for matching or validity\n",
    "## these are strings\n",
    "## {}these are indicate for length\n",
    "## first we import re\n",
    "## re contain search,match"
   ]
  },
  {
   "cell_type": "code",
   "execution_count": 19,
   "metadata": {},
   "outputs": [],
   "source": [
    "## regular expression\n",
    "## pattern matching\n",
    "## symbloic notation of a pattern\n",
    "## pattern : format which repeats\n",
    "## pattern(re) represents the set of all values taht match a paragraph\n",
    "##[0-9]->any digit\n",
    "## [a-z]-> any lower case letter\n",
    "##[2048]->all single digit multiplies of 2\n",
    "## ^[0-9]{1}$only single digit numbers\n",
    "## ^[0-9]{3}$only 3 digit numbers\n",
    "## [0-9]*0$->all multiples of 10\n",
    "## ^([1-9][0-9]*[05])$|^([5])$-> all multiplies of 5\n",
    "#-> all 10 digit numbers\n",
    "## [w][o][r][d] or (word)->searching for a 'word'\n",
    "## ^[6-9][0-9]{9}$|[0][6-9][0-9]{9}|^[+][9][1][6-9][0-9]{9}$\n",
    "## [0-9a-z][0-9a-z_.]{4,13}[0-9a-z][@]\n"
   ]
  },
  {
   "cell_type": "code",
   "execution_count": 21,
   "metadata": {},
   "outputs": [
    {
     "data": {
      "text/plain": [
       "True"
      ]
     },
     "execution_count": 21,
     "metadata": {},
     "output_type": "execute_result"
    }
   ],
   "source": [
    "## regular expressions\n",
    "import re \n",
    "def phnovalidator(num):\n",
    "    pattern='^[6-9][0-9]{9}$|[0][6-9][0-9]{9}|^[+][9][1][6-9][0-9]{9}$'\n",
    "    if re.match(pattern,num):\n",
    "        return True\n",
    "    return False\n",
    "phnovalidator(\"9493891131\")"
   ]
  },
  {
   "cell_type": "code",
   "execution_count": 35,
   "metadata": {},
   "outputs": [
    {
     "data": {
      "text/plain": [
       "('not', 'lenksai2002@gmail.com')"
      ]
     },
     "execution_count": 35,
     "metadata": {},
     "output_type": "execute_result"
    }
   ],
   "source": [
    "## email checkin\n",
    "import re\n",
    "def emailvalidator(email):\n",
    "    pattern='^[a-z]{8}[0-9]{4}[@][a-z]{5}[.][com]|[in]{3}$'\n",
    "    if re.match(pattern,email):\n",
    "        return True\n",
    "    return \"not\",email\n",
    "emailvalidator(\"lenksai2002@gmail.com\")"
   ]
  },
  {
   "cell_type": "code",
   "execution_count": 33,
   "metadata": {},
   "outputs": [
    {
     "ename": "SyntaxError",
     "evalue": "'return' outside function (<ipython-input-33-48df9b519ca1>, line 1)",
     "output_type": "error",
     "traceback": [
      "\u001b[1;36m  File \u001b[1;32m\"<ipython-input-33-48df9b519ca1>\"\u001b[1;36m, line \u001b[1;32m1\u001b[0m\n\u001b[1;33m    return 1\u001b[0m\n\u001b[1;37m            ^\u001b[0m\n\u001b[1;31mSyntaxError\u001b[0m\u001b[1;31m:\u001b[0m 'return' outside function\n"
     ]
    }
   ],
   "source": [
    "return 1"
   ]
  },
  {
   "cell_type": "code",
   "execution_count": 42,
   "metadata": {},
   "outputs": [
    {
     "data": {
      "text/plain": [
       "'notsai'"
      ]
     },
     "execution_count": 42,
     "metadata": {},
     "output_type": "execute_result"
    }
   ],
   "source": [
    "st=\"sai\"\n",
    "a=\"not\"+st\n",
    "a"
   ]
  },
  {
   "cell_type": "code",
   "execution_count": 52,
   "metadata": {},
   "outputs": [
    {
     "data": {
      "text/plain": [
       "True"
      ]
     },
     "execution_count": 52,
     "metadata": {},
     "output_type": "execute_result"
    }
   ],
   "source": [
    "def not_string(str):\n",
    "    if(str[0:3]==\"not\"):\n",
    "        return True\n",
    "    else:\n",
    "        return False\n",
    "not_string(\"not sai\")\n",
    "        "
   ]
  },
  {
   "cell_type": "code",
   "execution_count": null,
   "metadata": {},
   "outputs": [],
   "source": []
  }
 ],
 "metadata": {
  "kernelspec": {
   "display_name": "Python 3",
   "language": "python",
   "name": "python3"
  },
  "language_info": {
   "codemirror_mode": {
    "name": "ipython",
    "version": 3
   },
   "file_extension": ".py",
   "mimetype": "text/x-python",
   "name": "python",
   "nbconvert_exporter": "python",
   "pygments_lexer": "ipython3",
   "version": "3.7.4"
  }
 },
 "nbformat": 4,
 "nbformat_minor": 2
}
